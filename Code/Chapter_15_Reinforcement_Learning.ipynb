{
  "cells": [
    {
      "cell_type": "markdown",
      "metadata": {},
      "source": [
        "# 15. Reinforcement Learning\n",
        "## CPE 490 590\n",
        "## Rahul Bhadani\n"
      ]
    },
    {
      "cell_type": "markdown",
      "metadata": {},
      "source": [
        "## 1. Markove Chain"
      ]
    },
    {
      "cell_type": "code",
      "execution_count": 4,
      "metadata": {},
      "outputs": [
        {
          "name": "stdout",
          "output_type": "stream",
          "text": [
            "Generated sequence: ['s0', 's1', 's0', 's1', 's0', 's1', 's0', 's1', 's0', 's0']\n",
            "\n",
            "Steady state distribution (simulated):\n",
            "State s0: 0.5619\n",
            "State s1: 0.4381\n",
            "\n",
            "Theoretical steady state distribution:\n",
            "State s0: 0.5625\n",
            "State s1: 0.4375\n"
          ]
        }
      ],
      "source": [
        "import numpy as np\n",
        "import matplotlib.pyplot as plt\n",
        "import random\n",
        "\n",
        "class MarkovChain:\n",
        "    def __init__(self, transition_matrix, states):\n",
        "        \"\"\"\n",
        "        Initialize the Markov chain with transition matrix and state names.\n",
        "        \n",
        "        Args:\n",
        "            transition_matrix: 2D numpy array where [i,j] is the probability of transitioning from state i to state j\n",
        "            states: List of state names\n",
        "        \"\"\"\n",
        "        self.transition_matrix = np.array(transition_matrix)\n",
        "        self.states = states\n",
        "        self.n_states = len(states)\n",
        "        \n",
        "        # Validate that each row sums to 1 (valid probability distribution)\n",
        "        row_sums = np.sum(self.transition_matrix, axis=1)\n",
        "        if not np.allclose(row_sums, np.ones(self.n_states)):\n",
        "            print(\"Warning: Transition matrix rows don't sum to 1\")\n",
        "            print(f\"Row sums: {row_sums}\")\n",
        "    \n",
        "    def next_state(self, current_state_idx):\n",
        "        \"\"\"Generate the next state based on transition probabilities.\"\"\"\n",
        "        return np.random.choice(self.n_states, p=self.transition_matrix[current_state_idx])\n",
        "    \n",
        "    def generate_sequence(self, start_state_idx, length):\n",
        "        \"\"\"Generate a sequence of states starting from start_state.\"\"\"\n",
        "        current_state = start_state_idx\n",
        "        sequence = [current_state]\n",
        "        \n",
        "        for _ in range(length-1):\n",
        "            next_state_idx = self.next_state(current_state)\n",
        "            sequence.append(next_state_idx)\n",
        "            current_state = next_state_idx\n",
        "            \n",
        "        return sequence\n",
        "    \n",
        "# Define the transition matrix based on the diagram\n",
        "# State 0: Dark blue\n",
        "# State 1: Green\n",
        "transition_matrix = np.array([\n",
        "    [0.3, 0.7],  # From State 0: 0.3 probability to stay, 0.7 probability to go to State 1\n",
        "    [0.9, 0.1]   # From State 1: 0.9 probability to go to State 0, 0.1 probability to stay\n",
        "])\n",
        "\n",
        "# Initialize the Markov chain\n",
        "mc = MarkovChain(transition_matrix, states=[\"s0\", \"s1\"])\n",
        "\n",
        "# Example: Generate a sequence of 10 states starting from State 0\n",
        "sequence = mc.generate_sequence(0, 10)\n",
        "print(\"Generated sequence:\", [mc.states[i] for i in sequence])\n",
        "\n",
        "\n",
        "# Simulate the Markov chain for many steps to find steady state\n",
        "def simulate_steady_state(mc, start_state=0, num_steps=100000):\n",
        "    current = start_state\n",
        "    state_counts = {i: 0 for i in range(mc.n_states)}\n",
        "    \n",
        "    for _ in range(num_steps):\n",
        "        state_counts[current] += 1\n",
        "        current = mc.next_state(current)\n",
        "    \n",
        "    # Convert counts to probabilities\n",
        "    total = sum(state_counts.values())\n",
        "    steady_state = {mc.states[i]: count/total for i, count in state_counts.items()}\n",
        "    return steady_state\n",
        "\n",
        "# Calculate steady state distribution\n",
        "steady_state = simulate_steady_state(mc)\n",
        "print(\"\\nSteady state distribution (simulated):\")\n",
        "for state, prob in steady_state.items():\n",
        "    print(f\"State {state}: {prob:.4f}\")\n",
        "\n",
        "# Theoretical steady state calculation using linear algebra\n",
        "def calculate_steady_state(transition_matrix):\n",
        "    \"\"\"Calculate the steady state distribution analytically.\"\"\"\n",
        "    # For a Markov chain with transition matrix P, the steady state π satisfies π = πP\n",
        "    # This means π(P - I) = 0, plus we need the constraint that sum(π) = 1\n",
        "    \n",
        "    n = len(transition_matrix)\n",
        "    A = np.vstack([np.transpose(transition_matrix) - np.eye(n), np.ones(n)])\n",
        "    b = np.zeros(n+1)\n",
        "    b[-1] = 1\n",
        "    \n",
        "    # Solve the system of equations\n",
        "    try:\n",
        "        steady_state = np.linalg.lstsq(A, b, rcond=None)[0]\n",
        "        return steady_state\n",
        "    except np.linalg.LinAlgError:\n",
        "        return None\n",
        "\n",
        "# Calculate theoretical steady state\n",
        "theoretical_steady_state = calculate_steady_state(transition_matrix)\n",
        "if theoretical_steady_state is not None:\n",
        "    print(\"\\nTheoretical steady state distribution:\")\n",
        "    for i, prob in enumerate(theoretical_steady_state):\n",
        "        print(f\"State {mc.states[i]}: {prob:.4f}\")"
      ]
    },
    {
      "cell_type": "markdown",
      "metadata": {},
      "source": [
        "# 2. Markov Chain with Actions"
      ]
    },
    {
      "cell_type": "code",
      "execution_count": 5,
      "metadata": {},
      "outputs": [
        {
          "name": "stdout",
          "output_type": "stream",
          "text": [
            "\n",
            "State sequence with predefined actions:\n",
            "At state s0, took action stay_cautious\n",
            "At state s1, took action explore_aggressively\n",
            "At state s1, took action stay_cautious\n",
            "At state s0, took action explore_aggressively\n",
            "At state s1, took action explore_aggressively\n",
            "Ended at state s0\n",
            "\n",
            "Simulation with random actions:\n",
            "At state s0, took action explore_aggressively → state s0\n",
            "At state s0, took action stay_cautious → state s1\n",
            "At state s1, took action explore_aggressively → state s1\n",
            "At state s1, took action explore_aggressively → state s0\n",
            "At state s0, took action stay_cautious → state s1\n",
            "At state s1, took action explore_aggressively → state s1\n",
            "At state s1, took action explore_aggressively → state s1\n",
            "At state s1, took action explore_aggressively → state s1\n",
            "At state s1, took action explore_aggressively → state s1\n",
            "At state s1, took action explore_aggressively → state s0\n",
            "\n",
            "Transition probabilities for each action:\n",
            "From s0 to s0:\n",
            "  Action 'stay_cautious': 0.30\n",
            "  Action 'explore_aggressively': 0.80\n",
            "From s0 to s1:\n",
            "  Action 'stay_cautious': 0.70\n",
            "  Action 'explore_aggressively': 0.20\n",
            "From s1 to s0:\n",
            "  Action 'stay_cautious': 0.90\n",
            "  Action 'explore_aggressively': 0.40\n",
            "From s1 to s1:\n",
            "  Action 'stay_cautious': 0.10\n",
            "  Action 'explore_aggressively': 0.60\n"
          ]
        }
      ],
      "source": [
        "import numpy as np\n",
        "import matplotlib.pyplot as plt\n",
        "import random\n",
        "\n",
        "class MarkovDecisionProcess:\n",
        "    def __init__(self, transition_matrices, states, actions):\n",
        "        \"\"\"\n",
        "        Initialize the Markov Decision Process with just states and actions.\n",
        "        \n",
        "        Args:\n",
        "            transition_matrices: List of 2D numpy arrays, one for each action\n",
        "                                where transition_matrices[a][i,j] is the probability \n",
        "                                of transitioning from state i to state j when taking action a\n",
        "            states: List of state names\n",
        "            actions: List of action names\n",
        "        \"\"\"\n",
        "        self.transition_matrices = [np.array(tm) for tm in transition_matrices]\n",
        "        self.states = states\n",
        "        self.actions = actions\n",
        "        self.n_states = len(states)\n",
        "        self.n_actions = len(actions)\n",
        "        \n",
        "        # Validate transition matrices\n",
        "        for a, tm in enumerate(self.transition_matrices):\n",
        "            row_sums = np.sum(tm, axis=1)\n",
        "            if not np.allclose(row_sums, np.ones(self.n_states)):\n",
        "                print(f\"Warning: Transition matrix for action {actions[a]} rows don't sum to 1\")\n",
        "                print(f\"Row sums: {row_sums}\")\n",
        "    \n",
        "    def next_state(self, current_state, action):\n",
        "        \"\"\"Generate the next state based on current state and action.\"\"\"\n",
        "        return np.random.choice(self.n_states, p=self.transition_matrices[action][current_state])\n",
        "    \n",
        "    def generate_sequence(self, start_state, action_sequence):\n",
        "        \"\"\"\n",
        "        Generate a sequence of states based on a starting state and sequence of actions.\n",
        "        \n",
        "        Args:\n",
        "            start_state: Index of the starting state\n",
        "            action_sequence: List of action indices to take\n",
        "            \n",
        "        Returns:\n",
        "            List of states visited\n",
        "        \"\"\"\n",
        "        current_state = start_state\n",
        "        states_visited = [current_state]\n",
        "        \n",
        "        for action in action_sequence:\n",
        "            current_state = self.next_state(current_state, action)\n",
        "            states_visited.append(current_state)\n",
        "            \n",
        "        return states_visited\n",
        "    \n",
        "    def simulate_random_actions(self, start_state, length):\n",
        "        \"\"\"\n",
        "        Simulate taking random actions for a specified length.\n",
        "        \n",
        "        Args:\n",
        "            start_state: Index of the starting state\n",
        "            length: Number of actions to take\n",
        "            \n",
        "        Returns:\n",
        "            Tuple of (state_sequence, action_sequence)\n",
        "        \"\"\"\n",
        "        current_state = start_state\n",
        "        state_sequence = [current_state]\n",
        "        action_sequence = []\n",
        "        \n",
        "        for _ in range(length):\n",
        "            # Choose a random action\n",
        "            action = random.randint(0, self.n_actions - 1)\n",
        "            action_sequence.append(action)\n",
        "            \n",
        "            # Transition to next state based on the action\n",
        "            current_state = self.next_state(current_state, action)\n",
        "            state_sequence.append(current_state)\n",
        "            \n",
        "        return state_sequence, action_sequence\n",
        "    \n",
        "    def action_transition_probability(self, from_state, to_state):\n",
        "        \"\"\"\n",
        "        Calculate the probability of transitioning from one state to another for each action.\n",
        "        \n",
        "        Args:\n",
        "            from_state: Starting state index\n",
        "            to_state: Ending state index\n",
        "            \n",
        "        Returns:\n",
        "            Dictionary mapping action names to transition probabilities\n",
        "        \"\"\"\n",
        "        probs = {}\n",
        "        for a in range(self.n_actions):\n",
        "            probs[self.actions[a]] = self.transition_matrices[a][from_state, to_state]\n",
        "        return probs\n",
        "\n",
        "\n",
        "# Define actions for our MDP\n",
        "actions = [\"stay_cautious\", \"explore_aggressively\"]\n",
        "\n",
        "# Define transition matrices for each action\n",
        "# For stay_cautious:\n",
        "transition_matrix0 = np.array([\n",
        "    [0.3, 0.7],  # From State 0\n",
        "    [0.9, 0.1]   # From State 1\n",
        "])\n",
        "\n",
        "# For explore_aggressively: different transition probabilities\n",
        "transition_matrix1 = np.array([\n",
        "    [0.8, 0.2],  # From State 0\n",
        "    [0.4, 0.6]   # From State 1\n",
        "])\n",
        "\n",
        "transition_matrices = [transition_matrix0, transition_matrix1]\n",
        "\n",
        "# Initialize the MDP\n",
        "mdp = MarkovDecisionProcess(transition_matrices, states=[\"s0\", \"s1\"], actions=actions)\n",
        "\n",
        "# Example: Generate a sequence with a specific action sequence\n",
        "action_sequence = [0, 1, 0, 1, 1]  # Alternate between actions\n",
        "state_sequence = mdp.generate_sequence(0, action_sequence)\n",
        "print(\"\\nState sequence with predefined actions:\")\n",
        "for i, state in enumerate(state_sequence):\n",
        "    if i < len(action_sequence):\n",
        "        print(f\"At state {mdp.states[state]}, took action {mdp.actions[action_sequence[i]]}\")\n",
        "    else:\n",
        "        print(f\"Ended at state {mdp.states[state]}\")\n",
        "\n",
        "# Simulate random actions\n",
        "random_states, random_actions = mdp.simulate_random_actions(0, 10)\n",
        "print(\"\\nSimulation with random actions:\")\n",
        "for i in range(len(random_actions)):\n",
        "    print(f\"At state {mdp.states[random_states[i]]}, took action {mdp.actions[random_actions[i]]} → state {mdp.states[random_states[i+1]]}\")\n",
        "\n",
        "# Show transition probabilities for each action\n",
        "print(\"\\nTransition probabilities for each action:\")\n",
        "for s1 in range(mdp.n_states):\n",
        "    for s2 in range(mdp.n_states):\n",
        "        probs = mdp.action_transition_probability(s1, s2)\n",
        "        print(f\"From {mdp.states[s1]} to {mdp.states[s2]}:\")\n",
        "        for action, prob in probs.items():\n",
        "            print(f\"  Action '{action}': {prob:.2f}\")"
      ]
    },
    {
      "cell_type": "markdown",
      "metadata": {},
      "source": [
        "# 3. Markov Chain with Actions and (State-Action) Rewards"
      ]
    },
    {
      "cell_type": "code",
      "execution_count": 2,
      "metadata": {},
      "outputs": [
        {
          "name": "stdout",
          "output_type": "stream",
          "text": [
            "Running 5 simulations with 10 steps each...\n",
            "\n",
            "Simulation 1:\n",
            "Starting state: s0\n",
            "Step | State | Action | Reward | Next State\n",
            "---------------------------------------------\n",
            "   1 | s0    | action1 |    0.0 | s1   \n",
            "   2 | s1    | action0 |    0.0 | s0   \n",
            "   3 | s0    | action1 |    0.0 | s1   \n",
            "   4 | s1    | action0 |    0.0 | s0   \n",
            "   5 | s0    | action0 |    1.0 | s0   \n",
            "   6 | s0    | action1 |    0.0 | s0   \n",
            "   7 | s0    | action0 |    1.0 | s0   \n",
            "   8 | s0    | action0 |    1.0 | s0   \n",
            "   9 | s0    | action0 |    1.0 | s1   \n",
            "  10 | s1    | action0 |    0.0 | s0   \n",
            "\n",
            "Total reward: 4\n",
            "Discounted reward (gamma=0.9): 2.0963\n",
            "--------------------------------------------------\n",
            "Simulation 2:\n",
            "Starting state: s0\n",
            "Step | State | Action | Reward | Next State\n",
            "---------------------------------------------\n",
            "   1 | s0    | action1 |    0.0 | s0   \n",
            "   2 | s0    | action1 |    0.0 | s1   \n",
            "   3 | s1    | action0 |    0.0 | s1   \n",
            "   4 | s1    | action0 |    0.0 | s0   \n",
            "   5 | s0    | action0 |    1.0 | s1   \n",
            "   6 | s1    | action0 |    0.0 | s0   \n",
            "   7 | s0    | action0 |    1.0 | s0   \n",
            "   8 | s0    | action0 |    1.0 | s1   \n",
            "   9 | s1    | action1 |    2.0 | s0   \n",
            "  10 | s0    | action0 |    1.0 | s0   \n",
            "\n",
            "Total reward: 6\n",
            "Discounted reward (gamma=0.9): 2.9142\n",
            "--------------------------------------------------\n",
            "Simulation 3:\n",
            "Starting state: s0\n",
            "Step | State | Action | Reward | Next State\n",
            "---------------------------------------------\n",
            "   1 | s0    | action1 |    0.0 | s0   \n",
            "   2 | s0    | action1 |    0.0 | s0   \n",
            "   3 | s0    | action1 |    0.0 | s0   \n",
            "   4 | s0    | action1 |    0.0 | s0   \n",
            "   5 | s0    | action1 |    0.0 | s1   \n",
            "   6 | s1    | action0 |    0.0 | s0   \n",
            "   7 | s0    | action0 |    1.0 | s1   \n",
            "   8 | s1    | action1 |    2.0 | s1   \n",
            "   9 | s1    | action0 |    0.0 | s0   \n",
            "  10 | s0    | action1 |    0.0 | s0   \n",
            "\n",
            "Total reward: 3\n",
            "Discounted reward (gamma=0.9): 1.4880\n",
            "--------------------------------------------------\n",
            "Simulation 4:\n",
            "Starting state: s0\n",
            "Step | State | Action | Reward | Next State\n",
            "---------------------------------------------\n",
            "   1 | s0    | action0 |    1.0 | s1   \n",
            "   2 | s1    | action0 |    0.0 | s0   \n",
            "   3 | s0    | action0 |    1.0 | s1   \n",
            "   4 | s1    | action0 |    0.0 | s0   \n",
            "   5 | s0    | action0 |    1.0 | s0   \n",
            "   6 | s0    | action1 |    0.0 | s0   \n",
            "   7 | s0    | action1 |    0.0 | s0   \n",
            "   8 | s0    | action1 |    0.0 | s0   \n",
            "   9 | s0    | action1 |    0.0 | s1   \n",
            "  10 | s1    | action1 |    2.0 | s0   \n",
            "\n",
            "Total reward: 5\n",
            "Discounted reward (gamma=0.9): 3.2409\n",
            "--------------------------------------------------\n",
            "Simulation 5:\n",
            "Starting state: s0\n",
            "Step | State | Action | Reward | Next State\n",
            "---------------------------------------------\n",
            "   1 | s0    | action1 |    0.0 | s0   \n",
            "   2 | s0    | action1 |    0.0 | s0   \n",
            "   3 | s0    | action0 |    1.0 | s1   \n",
            "   4 | s1    | action1 |    2.0 | s1   \n",
            "   5 | s1    | action1 |    2.0 | s0   \n",
            "   6 | s0    | action0 |    1.0 | s0   \n",
            "   7 | s0    | action1 |    0.0 | s0   \n",
            "   8 | s0    | action1 |    0.0 | s0   \n",
            "   9 | s0    | action0 |    1.0 | s1   \n",
            "  10 | s1    | action0 |    0.0 | s0   \n",
            "\n",
            "Total reward: 7\n",
            "Discounted reward (gamma=0.9): 4.6012\n",
            "--------------------------------------------------\n"
          ]
        }
      ],
      "source": [
        "import numpy as np\n",
        "from copy import deepcopy\n",
        "\n",
        "class MarkovDecisionProcess:\n",
        "    def __init__(self, transition_matrices, rewards, states, actions, gamma=0.9):\n",
        "        \"\"\"\n",
        "        Initialize the Markov Decision Process.\n",
        "        \n",
        "        Args:\n",
        "            transition_matrices: List of 2D numpy arrays, one for each action\n",
        "                                where transition_matrices[a][i,j] is the probability \n",
        "                                of transitioning from state i to state j when taking action a\n",
        "            rewards: 2D numpy array where rewards[s, a] is the reward for taking action a in state s\n",
        "            states: List of state names\n",
        "            actions: List of action names\n",
        "            gamma: Discount factor for future rewards (between 0 and 1)\n",
        "        \"\"\"\n",
        "        self.transition_matrices = [np.array(tm) for tm in transition_matrices]\n",
        "        self.rewards = np.array(rewards)\n",
        "        self.states = states\n",
        "        self.actions = actions\n",
        "        self.gamma = gamma\n",
        "        self.n_states = len(states)\n",
        "        self.n_actions = len(actions)\n",
        "        \n",
        "        # Validate transition matrices\n",
        "        for a, tm in enumerate(self.transition_matrices):\n",
        "            row_sums = np.sum(tm, axis=1)\n",
        "            if not np.allclose(row_sums, np.ones(self.n_states)):\n",
        "                print(f\"Warning: Transition matrix for action {actions[a]} rows don't sum to 1\")\n",
        "                print(f\"Row sums: {row_sums}\")\n",
        "    \n",
        "    def next_state(self, current_state, action):\n",
        "        \"\"\"Generate the next state based on current state and action.\"\"\"\n",
        "        return np.random.choice(self.n_states, p=self.transition_matrices[action][current_state])\n",
        "    \n",
        "    def simulate_random_actions(self, start_state, n_steps):\n",
        "        \"\"\"\n",
        "        Simulate taking random actions for n_steps steps, starting from start_state.\n",
        "        \n",
        "        Args:\n",
        "            start_state: Index of the starting state\n",
        "            n_steps: Number of steps to simulate\n",
        "            \n",
        "        Returns:\n",
        "            history: List of (state, action, reward, next_state) tuples\n",
        "            total_reward: Sum of rewards\n",
        "            discounted_reward: Sum of discounted rewards\n",
        "        \"\"\"\n",
        "        current_state = start_state\n",
        "        history = []\n",
        "        total_reward = 0\n",
        "        discounted_reward = 0\n",
        "        \n",
        "        for step in range(n_steps):\n",
        "            # Choose a random action\n",
        "            action = np.random.randint(0, self.n_actions)\n",
        "            \n",
        "            # Get reward for this state-action pair\n",
        "            reward = self.rewards[current_state, action]\n",
        "            \n",
        "            # Calculate next state\n",
        "            next_state = self.next_state(current_state, action)\n",
        "            \n",
        "            # Record state, action, reward, next_state\n",
        "            history.append((\n",
        "                self.states[current_state], \n",
        "                self.actions[action], \n",
        "                reward, \n",
        "                self.states[next_state]\n",
        "            ))\n",
        "            \n",
        "            # Update rewards\n",
        "            total_reward += reward\n",
        "            discounted_reward += reward * (self.gamma ** step)\n",
        "            \n",
        "            # Move to next state\n",
        "            current_state = next_state\n",
        "            \n",
        "        return history, total_reward, discounted_reward\n",
        "\n",
        "\n",
        "# Define actions for our MDP\n",
        "actions = [\"action0\", \"action1\"]\n",
        "\n",
        "# Define transition matrices for each action\n",
        "# For action0:\n",
        "transition_matrix0 = np.array([\n",
        "    [0.3, 0.7],  # From State 0\n",
        "    [0.9, 0.1]   # From State 1\n",
        "])\n",
        "\n",
        "# For action1: different transition probabilities\n",
        "transition_matrix1 = np.array([\n",
        "    [0.8, 0.2],  # From State 0\n",
        "    [0.4, 0.6]   # From State 1\n",
        "])\n",
        "\n",
        "transition_matrices = [transition_matrix0, transition_matrix1]\n",
        "\n",
        "# Define rewards - rewards[s, a] is reward for taking action a in state s\n",
        "rewards = np.array([\n",
        "    [1, 0],  # Rewards for state 0: action0 gives 1, action1 gives 0\n",
        "    [0, 2]   # Rewards for state 1: action0 gives 0, action1 gives 2\n",
        "])\n",
        "\n",
        "# Initialize the MDP\n",
        "mdp = MarkovDecisionProcess(transition_matrices, rewards, states=[\"s0\", \"s1\"], actions=actions)\n",
        "\n",
        "# Run multiple simulations\n",
        "n_simulations = 5\n",
        "n_steps = 10\n",
        "\n",
        "print(f\"Running {n_simulations} simulations with {n_steps} steps each...\\n\")\n",
        "\n",
        "for sim in range(n_simulations):\n",
        "    print(f\"Simulation {sim + 1}:\")\n",
        "    \n",
        "    # Start from random state\n",
        "    start_state = np.random.randint(0, mdp.n_states)\n",
        "    print(f\"Starting state: {mdp.states[start_state]}\")\n",
        "    \n",
        "    # Run simulation\n",
        "    history, total_reward, discounted_reward = mdp.simulate_random_actions(start_state, n_steps)\n",
        "    \n",
        "    # Print results\n",
        "    print(\"Step | State | Action | Reward | Next State\")\n",
        "    print(\"-\" * 45)\n",
        "    for i, (state, action, reward, next_state) in enumerate(history):\n",
        "        print(f\"{i+1:4d} | {state:5s} | {action:7s} | {reward:6.1f} | {next_state:5s}\")\n",
        "    \n",
        "    print(f\"\\nTotal reward: {total_reward}\")\n",
        "    print(f\"Discounted reward (gamma={mdp.gamma}): {discounted_reward:.4f}\")\n",
        "    print(\"-\" * 50)"
      ]
    },
    {
      "cell_type": "markdown",
      "metadata": {
        "id": "ABw2R5NiZstA"
      },
      "source": [
        "# Grid World RL\n",
        "## Rahul Bhadani\n",
        "\n",
        "### Based on work by Eligijus Bujokas"
      ]
    },
    {
      "cell_type": "markdown",
      "metadata": {
        "id": "f0x7ArAXZvXO"
      },
      "source": [
        "The grid world problem is a classic problem in RL where we want to create an optimal strategy for an agent to traverse a grid."
      ]
    },
    {
      "cell_type": "markdown",
      "metadata": {
        "id": "k_jIR4YdZ2ld"
      },
      "source": [
        "No matter where our agent is, it can only move either left, right up or down. Now let us define and visualize our grid world:\n",
        "\n"
      ]
    },
    {
      "cell_type": "code",
      "execution_count": null,
      "metadata": {
        "id": "0mDw9IBgZ9km"
      },
      "outputs": [],
      "source": [
        "from typing import Tuple\n",
        "import numpy as np\n",
        "import matplotlib.pyplot as plt\n",
        "import matplotlib.patches\n"
      ]
    },
    {
      "cell_type": "code",
      "execution_count": null,
      "metadata": {
        "id": "oZqJ9kgRW1vd"
      },
      "outputs": [],
      "source": [
        "def array_index_to_matplot_coords(i: int, j: int, n_cols: int) -> Tuple[int, int]:\n",
        "    \"\"\"Converts an array index to a matplot coordinate\"\"\"\n",
        "    x = j\n",
        "    y = n_cols - i - 1\n",
        "    return x, y\n",
        "\n",
        "def plot_matrix(\n",
        "    M: np.array,\n",
        "    goal_coords: list = [],\n",
        "    img_width: int = 5,\n",
        "    img_height: int = 5,\n",
        "    title: str = None,\n",
        "    annotate_goal: bool = True\n",
        "    ) -> None:\n",
        "    \"\"\"\n",
        "    Plots a matrix as an image.\n",
        "    \"\"\"\n",
        "    height, width = M.shape\n",
        "\n",
        "    fig = plt.figure(figsize=(img_width, img_width))\n",
        "    ax = fig.add_subplot(111, aspect='equal')\n",
        "\n",
        "    for y in range(height):\n",
        "        for x in range(width):\n",
        "            # By default, the (0, 0) coordinate in matplotlib is the bottom left corner,\n",
        "            # so we need to invert the y coordinate to plot the matrix correctly\n",
        "            matplot_x, matplot_y = array_index_to_matplot_coords(x, y, height)\n",
        "\n",
        "            # If there is a tuple of (x, y) in the goal_coords list, we color the cell gray\n",
        "            if (x, y) in goal_coords:\n",
        "                ax.add_patch(matplotlib.patches.Rectangle((matplot_x - 0.5, matplot_y - 0.5), 1, 1, facecolor='gray'))\n",
        "                if annotate_goal:\n",
        "                    ax.annotate(str(M[x][y]), xy=(matplot_x, matplot_y), ha='center', va='center')\n",
        "            else:\n",
        "                ax.annotate(str(M[x][y]), xy=(matplot_x, matplot_y), ha='center', va='center')\n",
        "\n",
        "    offset = .5\n",
        "    ax.set_xlim(-offset, width - offset)\n",
        "    ax.set_ylim(-offset, height - offset)\n",
        "\n",
        "    ax.hlines(y=np.arange(height+1)- offset, xmin=-offset, xmax=width-offset)\n",
        "    ax.vlines(x=np.arange(width+1) - offset, ymin=-offset, ymax=height-offset)\n",
        "\n",
        "    plt.title(title)\n",
        "    plt.show()"
      ]
    },
    {
      "cell_type": "code",
      "execution_count": null,
      "metadata": {
        "colab": {
          "base_uri": "https://localhost:8080/",
          "height": 468
        },
        "id": "RhRWIUtTZ6aZ",
        "outputId": "4d0b0494-feca-4bbf-c59a-958974b351c6"
      },
      "outputs": [
        {
          "data": {
            "image/png": "[encoded data removed]",
            "text/plain": [
              "<Figure size 500x500 with 1 Axes>"
            ]
          },
          "metadata": {},
          "output_type": "display_data"
        }
      ],
      "source": [
        "# Importing the array library\n",
        "import numpy as np\n",
        "\n",
        "# Defining the number of blocks of a n x n grid\n",
        "n = 7\n",
        "\n",
        "# Defining the value for the hole and the goal\n",
        "goal = 10\n",
        "step = -1\n",
        "\n",
        "# Initiating an empty dataframe of size n x n\n",
        "R = np.ones((n,n))\n",
        "\n",
        "# Defining the coordinates of the goal\n",
        "goal_coords = [(0, n-1), (n-1, 0), (0, 0), (n-1, n-1), (n // 2, n // 2)]\n",
        "\n",
        "# Adding the goal values to the center and the corners\n",
        "for goal_coord in goal_coords:\n",
        "    R[goal_coord[1], goal_coord[0]] = goal\n",
        "\n",
        "# Every other step is -1\n",
        "R[R == 1] = step\n",
        "\n",
        "# Converting the G matrix to int\n",
        "R = R.astype(int)\n",
        "\n",
        "# Ploting\n",
        "plot_matrix(R, goal_coords, title='Gridworld')"
      ]
    },
    {
      "cell_type": "markdown",
      "metadata": {
        "id": "fGlZCwNyakZc"
      },
      "source": [
        "In the above example, we have defined our first needed matrix — the R matrix or the reward matrix. The goals are at the centre and at the corners of the grid world. When the agent goes into one of the cells, it receives a reward of the value of that cell."
      ]
    },
    {
      "cell_type": "markdown",
      "metadata": {
        "id": "gSbc1hk1aoCX"
      },
      "source": [
        "# Let's define the state matrix"
      ]
    },
    {
      "cell_type": "code",
      "execution_count": null,
      "metadata": {
        "colab": {
          "base_uri": "https://localhost:8080/",
          "height": 468
        },
        "id": "GWaqQvCgaT1Y",
        "outputId": "19403340-33f1-4e12-80e8-3bc146dbd653"
      },
      "outputs": [
        {
          "data": {
            "image/png": "[encoded data removed]",
            "text/plain": [
              "<Figure size 500x500 with 1 Axes>"
            ]
          },
          "metadata": {},
          "output_type": "display_data"
        }
      ],
      "source": [
        "S = np.arange(0, n*n).reshape(n, n)\n",
        "\n",
        "plot_matrix(S, goal_coords, title='State space')"
      ]
    },
    {
      "cell_type": "markdown",
      "metadata": {
        "id": "wiISK4tfau_P"
      },
      "source": [
        "In the grid world that we defined, there are in total 49 states that an agent can be in. Each state can be identified by the integer from the matrix.\n",
        "\n"
      ]
    },
    {
      "cell_type": "markdown",
      "metadata": {
        "id": "O9i2dCTgayFa"
      },
      "source": [
        "## Let us assume that our agent is in state 17 and moves down. What's the reward received (action value?\n",
        "\n",
        "## If the agent is in state 17 and moves to the left, what's the reward received?"
      ]
    },
    {
      "cell_type": "markdown",
      "metadata": {
        "id": "mKIxu1otbpUV"
      },
      "source": [
        "## Value function:\n",
        "\n",
        "\n",
        "## $$ V^\\pi (s) = \\mathbb{E} \\bigg[ \\sum_{t\\geq 0}^K \\gamma^t r_t | s_0 = s, \\pi \\bigg] $$ where $K$ is the terminal state."
      ]
    },
    {
      "cell_type": "markdown",
      "metadata": {
        "id": "IQr2A9gVcMWx"
      },
      "source": [
        "## Policy is $$ \\pi (a, s)  = p \\in [0, 1]$$ is the probability of taking an action  $a$ in state $s$"
      ]
    },
    {
      "cell_type": "markdown",
      "metadata": {
        "id": "gHijXIKicY6B"
      },
      "source": [
        "Let us initiate the initial value matrix V:\n",
        "\n"
      ]
    },
    {
      "cell_type": "code",
      "execution_count": null,
      "metadata": {
        "colab": {
          "base_uri": "https://localhost:8080/",
          "height": 468
        },
        "id": "VzMQ9F-AarTG",
        "outputId": "701f38c9-b325-416f-9afa-559f55e13204"
      },
      "outputs": [
        {
          "data": {
            "image/png": "[encoded data removed]",
            "text/plain": [
              "<Figure size 500x500 with 1 Axes>"
            ]
          },
          "metadata": {},
          "output_type": "display_data"
        }
      ],
      "source": [
        "# Initiating the empty Value function\n",
        "V = np.zeros((n, n))\n",
        "\n",
        "plot_matrix(V, goal_coords, title='Value function')"
      ]
    },
    {
      "cell_type": "markdown",
      "metadata": {
        "id": "fBFIv2R-cgaE"
      },
      "source": [
        "As we have not yet explored our created world of grids, all the returns of the states are 0.\n",
        "\n",
        "The last matrix we will need is the policy matrix P."
      ]
    },
    {
      "cell_type": "code",
      "execution_count": null,
      "metadata": {
        "id": "IZg5oelkcahu"
      },
      "outputs": [],
      "source": [
        "def plot_policy_matrix(P: dict, S:np.array, goal_coords: list = [], img_width: int = 5, img_height: int = 5, title: str = None) -> None:\n",
        "    \"\"\"\n",
        "    Plots the policy matrix out of the dictionary provided; The dictionary values are used to draw the arrows\n",
        "    \"\"\"\n",
        "    height, width = S.shape\n",
        "\n",
        "    fig = plt.figure(figsize=(img_width, img_width))\n",
        "    ax = fig.add_subplot(111, aspect='equal')\n",
        "    for y in range(height):\n",
        "        for x in range(width):\n",
        "            matplot_x, matplot_y = array_index_to_matplot_coords(x, y, height)\n",
        "\n",
        "            # If there is a tuple of (x, y) in the goal_coords list, we color the cell gray\n",
        "            if (x, y) in goal_coords:\n",
        "                ax.add_patch(matplotlib.patches.Rectangle((matplot_x - 0.5, matplot_y - 0.5), 1, 1, facecolor='gray'))\n",
        "\n",
        "            else:\n",
        "                # Adding the arrows to the plot\n",
        "                if 'up' in P[S[x, y]]:\n",
        "                    plt.arrow(matplot_x, matplot_y, 0, 0.3, head_width = 0.05, head_length = 0.05)\n",
        "                if 'down' in P[S[x, y]]:\n",
        "                    plt.arrow(matplot_x, matplot_y, 0, -0.3, head_width = 0.05, head_length = 0.05)\n",
        "                if 'left' in P[S[x, y]]:\n",
        "                    plt.arrow(matplot_x, matplot_y, -0.3, 0, head_width = 0.05, head_length = 0.05)\n",
        "                if 'right' in P[S[x, y]]:\n",
        "                    plt.arrow(matplot_x, matplot_y, 0.3, 0, head_width = 0.05, head_length = 0.05)\n",
        "\n",
        "\n",
        "    offset = .5\n",
        "    ax.set_xlim(-offset, width - offset)\n",
        "    ax.set_ylim(-offset, height - offset)\n",
        "\n",
        "    ax.hlines(y=np.arange(height+1)- offset, xmin=-offset, xmax=width-offset)\n",
        "    ax.vlines(x=np.arange(width+1) - offset, ymin=-offset, ymax=height-offset)\n",
        "\n",
        "    plt.title(title)\n",
        "\n",
        "# Saving all the unique states to a vector\n",
        "states = np.unique(S)\n",
        "\n",
        "# Dictionary to hold each action for a given state\n",
        "P = {}\n",
        "for s in states:\n",
        "    s_dict = {}\n",
        "\n",
        "    # Checking which index is the current state in the S matrix\n",
        "    s_index = np.where(S == s)\n",
        "\n",
        "    # If the state is in the top left corner, we can only move right and down\n",
        "    if s_index == (0, 0):\n",
        "        s_dict['right'] = 0.5\n",
        "        s_dict['down'] = 0.5\n",
        "\n",
        "    # If the state is in the top right corner, we can only move left and down\n",
        "    elif s_index == (0, n - 1):\n",
        "        s_dict['left'] = 0.5\n",
        "        s_dict['down'] = 0.5\n",
        "\n",
        "    # If the state is in the bottom left corner, we can only move right and up\n",
        "    elif s_index == (n - 1, 0):\n",
        "        s_dict['right'] = 0.5\n",
        "        s_dict['up'] = 0.5\n",
        "\n",
        "    # If the state is in the bottom right corner, we can only move left and up\n",
        "    elif s_index == (n - 1, n - 1):\n",
        "        s_dict['left'] = 0.5\n",
        "        s_dict['up'] = 0.5\n",
        "\n",
        "    # If the state is in the first row, we can only move left, right, and down\n",
        "    elif s_index[0] == 0:\n",
        "        s_dict['left'] = 0.333\n",
        "        s_dict['right'] = 0.333\n",
        "        s_dict['down'] = 0.333\n",
        "\n",
        "    # If the state is in the last row, we can only move left, right, and up\n",
        "    elif s_index[0] == n - 1:\n",
        "        s_dict['left'] =  0.333\n",
        "        s_dict['right'] = 0.333\n",
        "        s_dict['up'] = 0.333\n",
        "\n",
        "    # If the state is in the first column, we can only move up, down, and right\n",
        "    elif s_index[1] == 0:\n",
        "        s_dict['up'] = 0.333\n",
        "        s_dict['down'] = 0.333\n",
        "        s_dict['right'] = 0.333\n",
        "\n",
        "    # If the state is in the last column, we can only move up, down, and left\n",
        "    elif s_index[1] == n - 1:\n",
        "        s_dict['up'] = 0.333\n",
        "        s_dict['down'] = 0.333\n",
        "        s_dict['left'] = 0.333\n",
        "\n",
        "    # If the state is in the middle, we can move in all directions\n",
        "    else:\n",
        "        s_dict['up'] = 0.25\n",
        "        s_dict['down'] = 0.25\n",
        "        s_dict['left'] = 0.25\n",
        "        s_dict['right'] = 0.25\n",
        "\n",
        "    # Saving the current states trasition probabilities\n",
        "    P[s] = s_dict"
      ]
    },
    {
      "cell_type": "code",
      "execution_count": null,
      "metadata": {
        "colab": {
          "base_uri": "https://localhost:8080/",
          "height": 470
        },
        "id": "kXDB5LsHcmfT",
        "outputId": "2d65cedf-0cd9-4a57-a844-a7a93843b775"
      },
      "outputs": [
        {
          "data": {
            "image/png": "[encoded data removed]",
            "text/plain": [
              "<Figure size 500x500 with 1 Axes>"
            ]
          },
          "metadata": {},
          "output_type": "display_data"
        }
      ],
      "source": [
        "# Drawing a plot for the policy matrix with arrows; In one cell there can be the maximum of 4 arrows each indicating the action an agent can take\n",
        "plot_policy_matrix(P, S, goal_coords, title='Policy matrix $P$')"
      ]
    },
    {
      "cell_type": "markdown",
      "metadata": {
        "id": "VU07mizicvpB"
      },
      "source": [
        "Note tha the above one is not the optimal policy but all possible policy"
      ]
    },
    {
      "cell_type": "markdown",
      "metadata": {
        "id": "aVfOjWshc8p1"
      },
      "source": [
        "## Having the R, P, S and V matrices, we can finally start calculating the answer for our RL problem. But we have yet to define, what is the RL objective.\n",
        "\n",
        "### The objective of an RL algorithm is for the agent to find the optimal policy P that maximizes the returns in each state.\n",
        "\n"
      ]
    },
    {
      "cell_type": "markdown",
      "metadata": {
        "id": "2EVUhqW5dG1S"
      },
      "source": [
        "## Having the R, P, S and V matrices, we can finally start calculating the answer for our RL problem. But we have yet to define, what is the RL objective.\n",
        "\n",
        "## The objective of an RL algorithm is for the agent to find the optimal policy P that maximizes the returns in each state."
      ]
    },
    {
      "cell_type": "markdown",
      "metadata": {
        "id": "3N2z9Po0dPXI"
      },
      "source": [
        "## Another formulation is that the objective is to calculate the optimal state values in the matrix V.\n",
        "\n"
      ]
    },
    {
      "cell_type": "markdown",
      "metadata": {
        "id": "SmU8RWZddWnO"
      },
      "source": [
        "## Recall that every value in the V matrix is the total accumulated discounted reward. Thus, our agent would want to always go to the state which has the highest value."
      ]
    },
    {
      "cell_type": "markdown",
      "metadata": {
        "id": "9I0Q0Dx6fmN-"
      },
      "source": [
        "##  We can just list out all the available actions from the current state, check which available state has the highest $V(s)$ value and go there. Looking at the matrices above, we can see that, for example, state 8 has two optimal choices — down and left. This is because these actions will lead the agent into equally good states. Thus having the V matrix, we will always infer the P matrix."
      ]
    },
    {
      "cell_type": "markdown",
      "metadata": {
        "id": "JJt3il1uguTq"
      },
      "source": [
        "# Value iteration for Grid World problem ca be written as\n",
        "\n",
        "![image](https://miro.medium.com/v2/resize:fit:640/format:webp/1*Oo1LPPdbyPUjwsc8INrt7g.png)"
      ]
    },
    {
      "cell_type": "code",
      "execution_count": null,
      "metadata": {
        "id": "GjDZAN5zghNL"
      },
      "outputs": [],
      "source": [
        "def get_next_state(a: str, s: int, S: np.array):\n",
        "    \"\"\"\n",
        "    Function that returns the next state's coordinates given an action and a state\n",
        "    \"\"\"\n",
        "    # Getting the current indexes\n",
        "    s_index = np.where(S == s)\n",
        "    s_row = s_index[0][0]\n",
        "    s_col = s_index[1][0]\n",
        "\n",
        "    # Defining the indexes of the next state\n",
        "    next_row = s_row\n",
        "    next_col = s_col\n",
        "\n",
        "    if a == 'up':\n",
        "        next_row = s_row - 1\n",
        "        next_col = s_col\n",
        "    elif a == 'down':\n",
        "        next_row = s_row + 1\n",
        "        next_col = s_col\n",
        "    elif a == 'left':\n",
        "        next_row = s_row\n",
        "        next_col = s_col - 1\n",
        "    elif a == 'right':\n",
        "        next_row = s_row\n",
        "        next_col = s_col + 1\n",
        "\n",
        "    return next_row, next_col"
      ]
    },
    {
      "cell_type": "code",
      "execution_count": null,
      "metadata": {
        "id": "bSE5IWivgyr2"
      },
      "outputs": [],
      "source": [
        "def bellman_value(\n",
        "    s: int,\n",
        "    S: np.array,\n",
        "    P: dict,\n",
        "    G: np.array,\n",
        "    V: np.array,\n",
        "    gamma: float = 0.9\n",
        "    ) -> Tuple:\n",
        "    \"\"\"\n",
        "    Calculates the Belman equation value for the given state\n",
        "    \"\"\"\n",
        "    # Extracting all the available actions for the given state\n",
        "    actions = P[s]\n",
        "\n",
        "    # Placeholder to hold the sum\n",
        "    sum = 0\n",
        "    for action in actions:\n",
        "        # Extracting the probability of the given action\n",
        "        prob = actions[action]\n",
        "\n",
        "        # Getting the next states indexes\n",
        "        next_row, next_col = get_next_state(action, s, S)\n",
        "\n",
        "        # Extracting the expected reward\n",
        "        reward = G[next_row, next_col]\n",
        "\n",
        "        # Extracting the value of the next state\n",
        "        value_prime = V[next_row, next_col]\n",
        "\n",
        "        # Adding to the sum\n",
        "        sum += prob * (reward + gamma * value_prime)\n",
        "\n",
        "    return sum"
      ]
    },
    {
      "cell_type": "code",
      "execution_count": null,
      "metadata": {
        "id": "4k3fBtn7g1dK"
      },
      "outputs": [],
      "source": [
        "def get_max_return(s: int, S: np.array, P: dict, G: np.array, V: np.array, gamma: float = 0.9) -> Tuple:\n",
        "    \"\"\"\n",
        "    Returns the best action and the Bellman's value for the given state\n",
        "    \"\"\"\n",
        "    # Extracting all the available actions for the given state\n",
        "    actions = P[s]\n",
        "\n",
        "    # Placeholder to hold the best action and the max return\n",
        "    best_action = None\n",
        "    max_return = -np.inf\n",
        "\n",
        "    for action in actions:\n",
        "        # Getting the probability of the action\n",
        "        prob = actions[action]\n",
        "\n",
        "        # Getting the next states indexes\n",
        "        next_row, next_col = get_next_state(action, s, S)\n",
        "\n",
        "        # Extracting the expected reward\n",
        "        reward = G[next_row, next_col]\n",
        "\n",
        "        # Extracting the value of the next state\n",
        "        value_prime = V[next_row, next_col]\n",
        "\n",
        "        # Calculating the return\n",
        "        _return = prob * (reward + gamma * value_prime)\n",
        "\n",
        "        # Checking if the return is greater than the current max return\n",
        "        if _return > max_return:\n",
        "            best_action = action\n",
        "            max_return = _return\n",
        "\n",
        "    return best_action, max_return\n"
      ]
    },
    {
      "cell_type": "code",
      "execution_count": null,
      "metadata": {
        "id": "Hi8lOEKGg4RG"
      },
      "outputs": [],
      "source": [
        "def update_value(s, S, P, G, V, gamma) -> float:\n",
        "    \"\"\"\n",
        "    Updates the value function for the given state\n",
        "    \"\"\"\n",
        "    # Getting the indexes of s in S\n",
        "    s_index = np.where(S == s)\n",
        "    s_row = s_index[0][0]\n",
        "    s_col = s_index[1][0]\n",
        "\n",
        "    # Getting the best action and the Bellman's value\n",
        "    _, max_return = get_max_return(s, S, P, G, V, gamma)\n",
        "\n",
        "    # Rounding up the bellman value\n",
        "    max_return = np.round(max_return, 2)\n",
        "\n",
        "    # Updating the value function with a rounded value\n",
        "    V[s_row, s_col] = max_return\n",
        "\n",
        "    return max_return\n"
      ]
    },
    {
      "cell_type": "code",
      "execution_count": null,
      "metadata": {
        "id": "pVROKmHAg5xY"
      },
      "outputs": [],
      "source": [
        "def value_iteration(\n",
        "    S: np.array,\n",
        "    P: np.array,\n",
        "    G: np.array,\n",
        "    V: np.array,\n",
        "    gamma: float = 0.9,\n",
        "    epsilon: float = 0.0001,\n",
        "    n_iter: int = None\n",
        "    ) -> None:\n",
        "    \"\"\"\n",
        "    Function that performs the value iteration algorithm\n",
        "\n",
        "    The function updates the V matrix inplace\n",
        "    \"\"\"\n",
        "    # Iteration tracker\n",
        "    iteration = 0\n",
        "\n",
        "    # Iterating until the difference between the value functions is less than epsilon\n",
        "    iterate = True\n",
        "    while iterate:\n",
        "        # Placeholder for the maximum difference between the value functions\n",
        "        delta = 0\n",
        "\n",
        "        # Updating the iteration tracker\n",
        "        iteration += 1\n",
        "        # Iterating over the states\n",
        "        for s in S.flatten():\n",
        "            # Getting the indexes of s in S\n",
        "            s_index = np.where(S == s)\n",
        "            s_row = s_index[0][0]\n",
        "            s_col = s_index[1][0]\n",
        "\n",
        "            # Saving the current value for the state\n",
        "            v_init = V[s_row, s_col].copy()\n",
        "\n",
        "            # Updating the value function\n",
        "            v_new = update_value(s, S, P, G, V, gamma)\n",
        "\n",
        "            # Updating the delta\n",
        "            delta = np.max([delta, np.abs(v_new - v_init)])\n",
        "\n",
        "            if (delta < epsilon) and (n_iter is None):\n",
        "                iterate = False\n",
        "                break\n",
        "\n",
        "        if (n_iter is not None) and (iteration >= n_iter):\n",
        "            iterate = False\n",
        "\n",
        "    # Printing the iteration tracker\n",
        "    print(f\"Converged in {iteration} iterations\")\n",
        "\n",
        "    return None"
      ]
    },
    {
      "cell_type": "code",
      "execution_count": null,
      "metadata": {
        "id": "tl8DylLVg8zp"
      },
      "outputs": [],
      "source": [
        "def update_policy(S, P, V):\n",
        "    \"\"\"\n",
        "    Function that updates the policy given the value function\n",
        "    \"\"\"\n",
        "    # Iterating over the states\n",
        "    for s in S.flatten():\n",
        "        # Listing all the actions\n",
        "        actions = P[s]\n",
        "\n",
        "        # For each available action, getting the Bellman's value\n",
        "        values = {}\n",
        "        for action in actions.keys():\n",
        "            # Getting the next state indexes\n",
        "            next_row, next_col = get_next_state(action, s, S)\n",
        "\n",
        "            # Saving the value function of that nex t state\n",
        "            values[action] = V[next_row, next_col]\n",
        "\n",
        "        # Extracting the maximum key value of the values dictionary\n",
        "        max_value = max(values.values())\n",
        "\n",
        "        # Leaving the keys that are equal to the maximum value\n",
        "        best_actions = [key for key in values if values[key] == max_value]\n",
        "\n",
        "        # Getting the length of the dictionary\n",
        "        length = len(values)\n",
        "\n",
        "        # Creating the final dictionary with all the best actions in it\n",
        "        p_star = {}\n",
        "        for action in best_actions:\n",
        "            p_star[action] = 1/length\n",
        "\n",
        "        # Updating the policy\n",
        "        P[s] = p_star"
      ]
    },
    {
      "cell_type": "markdown",
      "metadata": {
        "id": "8uA34xj5hErn"
      },
      "source": [
        "## Now let us update one state - the first or $s = 1$.\n",
        "\n"
      ]
    },
    {
      "cell_type": "code",
      "execution_count": null,
      "metadata": {
        "id": "ATa0MPl_hADQ"
      },
      "outputs": [],
      "source": [
        "update_value(1, S, P, R, V, gamma=0.9)\n",
        "update_policy(S, P, V)"
      ]
    },
    {
      "cell_type": "code",
      "execution_count": null,
      "metadata": {
        "colab": {
          "base_uri": "https://localhost:8080/",
          "height": 468
        },
        "id": "rqSsIq-IhKOT",
        "outputId": "90b67f4b-7874-449d-ebc3-0849262cba47"
      },
      "outputs": [
        {
          "data": {
            "image/png": "[encoded data removed]",
            "text/plain": [
              "<Figure size 500x500 with 1 Axes>"
            ]
          },
          "metadata": {},
          "output_type": "display_data"
        }
      ],
      "source": [
        "plot_matrix(V, goal_coords, title='Value function')"
      ]
    },
    {
      "cell_type": "code",
      "execution_count": null,
      "metadata": {
        "colab": {
          "base_uri": "https://localhost:8080/",
          "height": 470
        },
        "id": "M0TCLSI0ibI5",
        "outputId": "9d6dc6e5-0686-486d-debc-c7496c200df6"
      },
      "outputs": [
        {
          "data": {
            "image/png": "[encoded data removed]",
            "text/plain": [
              "<Figure size 500x500 with 1 Axes>"
            ]
          },
          "metadata": {},
          "output_type": "display_data"
        }
      ],
      "source": [
        "plot_policy_matrix(P, S, goal_coords, title='Policy matrix $P$')"
      ]
    },
    {
      "cell_type": "markdown",
      "metadata": {
        "id": "f1mWmuBEinDs"
      },
      "source": [
        "## Let us now update state 3 and see what is happening:\n",
        "\n"
      ]
    },
    {
      "cell_type": "code",
      "execution_count": null,
      "metadata": {
        "colab": {
          "base_uri": "https://localhost:8080/",
          "height": 921
        },
        "id": "5ZQxpBxrigXK",
        "outputId": "fcbba66d-5b9e-43d0-e2b1-a8ba3ae3f314"
      },
      "outputs": [
        {
          "data": {
            "image/png": "[encoded data removed]",
            "text/plain": [
              "<Figure size 500x500 with 1 Axes>"
            ]
          },
          "metadata": {},
          "output_type": "display_data"
        },
        {
          "data": {
            "image/png": "[encoded data removed]",
            "text/plain": [
              "<Figure size 500x500 with 1 Axes>"
            ]
          },
          "metadata": {},
          "output_type": "display_data"
        }
      ],
      "source": [
        "update_value(3, S, P, R, V, gamma=0.9)\n",
        "update_policy(S, P, V)\n",
        "plot_matrix(V, goal_coords, title='Value function')\n",
        "plot_policy_matrix(P, S, goal_coords, title='Policy matrix $P$')\n"
      ]
    },
    {
      "cell_type": "markdown",
      "metadata": {
        "id": "lYumycEDi3Q7"
      },
      "source": [
        "## The value iteration algorithm works in the exact same fashion as above just for all the states (in our case — from states 0 to 48). To implement it use the following code:"
      ]
    },
    {
      "cell_type": "code",
      "execution_count": null,
      "metadata": {
        "colab": {
          "base_uri": "https://localhost:8080/"
        },
        "id": "U_zp0qFuirPz",
        "outputId": "42f4a3df-0979-4987-da4d-02de59d09923"
      },
      "outputs": [
        {
          "name": "stdout",
          "output_type": "stream",
          "text": [
            "Converged in 6 iterations\n"
          ]
        }
      ],
      "source": [
        "value_iteration(S, P, R, V, epsilon=10**-16)\n",
        "update_policy(S, P, V)"
      ]
    },
    {
      "cell_type": "code",
      "execution_count": null,
      "metadata": {
        "colab": {
          "base_uri": "https://localhost:8080/",
          "height": 921
        },
        "id": "OPYQIhmqi6hO",
        "outputId": "5b57476d-0592-4d79-b69e-15ada7375b74"
      },
      "outputs": [
        {
          "data": {
            "image/png": "[encoded data removed]",
            "text/plain": [
              "<Figure size 500x500 with 1 Axes>"
            ]
          },
          "metadata": {},
          "output_type": "display_data"
        },
        {
          "data": {
            "image/png": "[encoded data removed]",
            "text/plain": [
              "<Figure size 500x500 with 1 Axes>"
            ]
          },
          "metadata": {},
          "output_type": "display_data"
        }
      ],
      "source": [
        "plot_matrix(V, goal_coords, title='Value function')\n",
        "plot_policy_matrix(P, S, goal_coords, title='Policy matrix $P$')"
      ]
    },
    {
      "cell_type": "markdown",
      "metadata": {
        "id": "uOgB0qIyjB9l"
      },
      "source": [
        "## The agent could start in any non-terminal state and move along the arrows in the policy matrix. If there are two or more arrows in the same state, we can move with the same probability into each of the states that the arrows are pointing to."
      ]
    }
  ],
  "metadata": {
    "colab": {
      "provenance": []
    },
    "kernelspec": {
      "display_name": "Python 3",
      "name": "python3"
    },
    "language_info": {
      "codemirror_mode": {
        "name": "ipython",
        "version": 3
      },
      "file_extension": ".py",
      "mimetype": "text/x-python",
      "name": "python",
      "nbconvert_exporter": "python",
      "pygments_lexer": "ipython3",
      "version": "3.8.18"
    }
  },
  "nbformat": 4,
  "nbformat_minor": 0
}
