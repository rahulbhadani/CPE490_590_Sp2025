{
 "cells": [
  {
   "cell_type": "markdown",
   "metadata": {},
   "source": [
    "#"
   ]
  },
  {
   "cell_type": "markdown",
   "metadata": {},
   "source": [
    "# 12. Macine Learning Model Deployment"
   ]
  },
  {
   "cell_type": "markdown",
   "metadata": {},
   "source": [
    "## CPE 490 590\n",
    "## Rahul Bhadani"
   ]
  },
  {
   "cell_type": "markdown",
   "metadata": {},
   "source": [
    "# 1. Creating a PyTorch Model for IRIS Classification"
   ]
  },
  {
   "cell_type": "code",
   "execution_count": 7,
   "metadata": {},
   "outputs": [],
   "source": [
    "import torch\n",
    "import torch.nn as nn\n",
    "import torch.optim as optim\n",
    "import numpy as np\n",
    "import pandas as pd\n",
    "from sklearn.datasets import load_iris\n",
    "from sklearn.model_selection import train_test_split\n",
    "from sklearn.preprocessing import StandardScaler\n",
    "import onnx\n",
    "import onnxruntime as ort\n",
    "\n",
    "# Load the Iris dataset\n",
    "iris = load_iris()\n",
    "X = iris.data\n",
    "y = iris.target\n",
    "\n",
    "# Scale the features\n",
    "scaler = StandardScaler()\n",
    "X_scaled = scaler.fit_transform(X)\n",
    "\n",
    "# Split the data\n",
    "X_train, X_test, y_train, y_test = train_test_split(\n",
    "    X_scaled, y, test_size=0.2, random_state=42)\n",
    "\n",
    "# Convert to PyTorch tensors\n",
    "X_train_tensor = torch.FloatTensor(X_train)\n",
    "y_train_tensor = torch.LongTensor(y_train)\n",
    "X_test_tensor = torch.FloatTensor(X_test)\n",
    "y_test_tensor = torch.LongTensor(y_test)"
   ]
  },
  {
   "cell_type": "markdown",
   "metadata": {},
   "source": [
    "# 2. PyTorch Model - Model Definition and Training"
   ]
  },
  {
   "cell_type": "code",
   "execution_count": 8,
   "metadata": {},
   "outputs": [
    {
     "name": "stdout",
     "output_type": "stream",
     "text": [
      "Epoch [10/55], Loss: 0.8916\n",
      "Epoch [20/55], Loss: 0.6242\n",
      "Epoch [30/55], Loss: 0.4371\n",
      "Epoch [40/55], Loss: 0.3273\n",
      "Epoch [50/55], Loss: 0.2546\n"
     ]
    }
   ],
   "source": [
    "class IrisClassifier(nn.Module):\n",
    "    def __init__(self):\n",
    "        super(IrisClassifier, self).__init__()\n",
    "        self.layer1 = nn.Linear(4, 10)\n",
    "        self.layer2 = nn.Linear(10, 3)\n",
    "        self.relu = nn.ReLU()\n",
    "        \n",
    "    def forward(self, x):\n",
    "        x = self.layer1(x)\n",
    "        x = self.relu(x)\n",
    "        x = self.layer2(x)\n",
    "        return x\n",
    "        \n",
    "model = IrisClassifier()\n",
    "criterion = nn.CrossEntropyLoss()\n",
    "optimizer = optim.Adam(model.parameters(), lr=0.01)\n",
    "epochs = 55\n",
    "for epoch in range(epochs):\n",
    "    outputs = model(X_train_tensor)\n",
    "    loss = criterion(outputs, y_train_tensor)\n",
    "    optimizer.zero_grad()\n",
    "    loss.backward()\n",
    "    optimizer.step()\n",
    "    if (epoch+1) % 10 == 0:\n",
    "        print(f'Epoch [{epoch+1}/{epochs}], Loss: {loss.item():.4f}')"
   ]
  },
  {
   "cell_type": "markdown",
   "metadata": {},
   "source": [
    "# 3. PyTorch Model - Evaluation and ONNX Export"
   ]
  },
  {
   "cell_type": "code",
   "execution_count": 12,
   "metadata": {},
   "outputs": [
    {
     "name": "stdout",
     "output_type": "stream",
     "text": [
      "Test Accuracy: 1.0000\n",
      "Model saved as iris_classifier.onnx\n"
     ]
    }
   ],
   "source": [
    "# Evaluate the model\n",
    "with torch.no_grad():\n",
    "    outputs = model(X_test_tensor)\n",
    "    _, predicted = torch.max(outputs.data, 1)\n",
    "    accuracy = (predicted == y_test_tensor).sum().item() / y_test_tensor.size(0)\n",
    "    print(f'Test Accuracy: {accuracy:.4f}')\n",
    "\n",
    "# Export the model to ONNX\n",
    "dummy_input = torch.randn(1, 4)\n",
    "input_names = [\"input\"]\n",
    "output_names = [\"output\"]\n",
    "\n",
    "torch.onnx.export(\n",
    "    model, dummy_input, \"iris_classifier.onnx\",\n",
    "    input_names=input_names, output_names=output_names,\n",
    "    dynamic_axes={\"input\": {0: \"batch_size\"}, \"output\": {0: \"batch_size\"}},\n",
    "    opset_version=11  # Try a lower opset version like 11\n",
    ")\n",
    "print(\"Model saved as iris_classifier.onnx\")"
   ]
  },
  {
   "cell_type": "markdown",
   "metadata": {},
   "source": [
    "# 4. PyTorch Model - Saving Scaler Parameters and Testing ONNX"
   ]
  },
  {
   "cell_type": "code",
   "execution_count": 13,
   "metadata": {},
   "outputs": [
    {
     "name": "stdout",
     "output_type": "stream",
     "text": [
      "Scaler parameters saved as scaler_params.json\n",
      "ONNX Model Test Accuracy: 1.0000\n"
     ]
    }
   ],
   "source": [
    "# Save scaler mean and scale for later use in the production application\n",
    "import json\n",
    "with open(\"scaler_params.json\", \"w\") as f:\n",
    "    json.dump({ \"mean\": scaler.mean_.tolist(), \"scale\": scaler.scale_.tolist()\n",
    "    }, f)\n",
    "\n",
    "print(\"Scaler parameters saved as scaler_params.json\")\n",
    "# Test the ONNX model\n",
    "ort_session = ort.InferenceSession(\"iris_classifier.onnx\")\n",
    "# Prepare input\n",
    "ort_inputs = {ort_session.get_inputs()[0].name: X_test.astype(np.float32)}\n",
    "# Run inference\n",
    "ort_outputs = ort_session.run(None, ort_inputs)\n",
    "# Calculate accuracy\n",
    "ort_predicted = np.argmax(ort_outputs[0], axis=1)\n",
    "ort_accuracy = np.sum(ort_predicted == y_test) / len(y_test)\n",
    "print(f'ONNX Model Test Accuracy: {ort_accuracy:.4f}')"
   ]
  },
  {
   "cell_type": "markdown",
   "metadata": {},
   "source": [
    "# 5. PyTorch Model - Saving Example Data"
   ]
  },
  {
   "cell_type": "code",
   "execution_count": 16,
   "metadata": {},
   "outputs": [
    {
     "name": "stdout",
     "output_type": "stream",
     "text": [
      "Example data saved as example_data.json\n"
     ]
    }
   ],
   "source": [
    "# Save some example data for testing in Production (unscaled Data)\n",
    "examples = []\n",
    "class_names = iris.target_names\n",
    "for i in range(10):\n",
    "    idx = np.random.randint(0, len(X))\n",
    "    examples.append({\n",
    "        \"features\": X[idx].tolist(),\n",
    "        \"label\": int(y[idx]),\n",
    "        \"class_name\": class_names[y[idx]]\n",
    "    })\n",
    "\n",
    "with open(\"example_data.json\", \"w\") as f:\n",
    "    json.dump(examples, f)\n",
    "\n",
    "print(\"Example data saved as example_data.json\")"
   ]
  }
 ],
 "metadata": {
  "kernelspec": {
   "display_name": "CPE490590",
   "language": "python",
   "name": "python3"
  },
  "language_info": {
   "codemirror_mode": {
    "name": "ipython",
    "version": 3
   },
   "file_extension": ".py",
   "mimetype": "text/x-python",
   "name": "python",
   "nbconvert_exporter": "python",
   "pygments_lexer": "ipython3",
   "version": "3.8.18"
  },
  "orig_nbformat": 4
 },
 "nbformat": 4,
 "nbformat_minor": 2
}
